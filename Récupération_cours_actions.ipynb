{
  "nbformat": 4,
  "nbformat_minor": 0,
  "metadata": {
    "colab": {
      "name": "Récupération_cours_actions.ipynb",
      "provenance": [],
      "authorship_tag": "ABX9TyM8nqRM0uYhEJEdJQXmhZAA",
      "include_colab_link": true
    },
    "kernelspec": {
      "name": "python3",
      "display_name": "Python 3"
    }
  },
  "cells": [
    {
      "cell_type": "markdown",
      "metadata": {
        "id": "view-in-github",
        "colab_type": "text"
      },
      "source": [
        "<a href=\"https://colab.research.google.com/github/Rano62/projet1/blob/master/R%C3%A9cup%C3%A9ration_cours_actions.ipynb\" target=\"_parent\"><img src=\"https://colab.research.google.com/assets/colab-badge.svg\" alt=\"Open In Colab\"/></a>"
      ]
    },
    {
      "cell_type": "code",
      "metadata": {
        "id": "t1AL67YRSCk7"
      },
      "source": [
        "from google.colab import auth\n",
        "auth.authenticate_user()\n",
        "\n",
        "import gspread\n",
        "from oauth2client.client import GoogleCredentials\n",
        "\n",
        "gc = gspread.authorize(GoogleCredentials.get_application_default())"
      ],
      "execution_count": null,
      "outputs": []
    },
    {
      "cell_type": "code",
      "metadata": {
        "id": "tw131dq-SW2H",
        "outputId": "2c19b1dc-ab8c-414c-d203-71495b19e48a",
        "colab": {
          "base_uri": "https://localhost:8080/",
          "height": 55
        }
      },
      "source": [
        "worksheet = gc.open('Recuperation_stocks_prices').sheet1\n",
        "\n",
        "# get_all_values gives a list of rows.\n",
        "rows = worksheet.get_all_values()\n",
        "print(rows)"
      ],
      "execution_count": null,
      "outputs": [
        {
          "output_type": "stream",
          "text": [
            "[['closeyest', 'INDEXEURO:PX1', 'FR0003500008', 'CAC 40', '15/10/2020', '4837,42'], ['tradetime', '.IXIC', '', 'Nasdaq Composite', '', '11768,73'], ['', '.INX', '', 'S&P 500 Index', '', '3488,67'], ['', '.DJI', '', 'Dow Jones Industrial Average', '', '28514'], ['', 'SX5E', '', 'EURO STOXX 50', '', '3192,69'], ['', 'DAX', '', 'Global X DAX Germany ETF', '', '28,65'], ['', 'UKX', '', 'FTSE 100 Index', '', '5832,52'], ['', 'INDEXEURO:PX4', '', 'SBF 120', '', '3842,38'], ['', 'EPA:CAP', '', 'Capgemini SE', '', '109'], ['', 'NYSE:ACN', '', 'Accenture Plc', '', '229,43'], ['', 'NYSE:DIS', '', 'Walt Disney Co', '', '126,59']]\n"
          ],
          "name": "stdout"
        }
      ]
    },
    {
      "cell_type": "code",
      "metadata": {
        "id": "H01gbqtqT9tD",
        "outputId": "fc0c52d8-3a72-4d75-c73a-145c9371747c",
        "colab": {
          "base_uri": "https://localhost:8080/",
          "height": 394
        }
      },
      "source": [
        "import pandas as pd\n",
        "data= pd.DataFrame.from_records(rows)\n",
        "\n",
        "data.columns = ['type','code','ISIN','Indice','date','cours_de_clo']\n",
        "data"
      ],
      "execution_count": null,
      "outputs": [
        {
          "output_type": "execute_result",
          "data": {
            "text/html": [
              "<div>\n",
              "<style scoped>\n",
              "    .dataframe tbody tr th:only-of-type {\n",
              "        vertical-align: middle;\n",
              "    }\n",
              "\n",
              "    .dataframe tbody tr th {\n",
              "        vertical-align: top;\n",
              "    }\n",
              "\n",
              "    .dataframe thead th {\n",
              "        text-align: right;\n",
              "    }\n",
              "</style>\n",
              "<table border=\"1\" class=\"dataframe\">\n",
              "  <thead>\n",
              "    <tr style=\"text-align: right;\">\n",
              "      <th></th>\n",
              "      <th>type</th>\n",
              "      <th>code</th>\n",
              "      <th>ISIN</th>\n",
              "      <th>Indice</th>\n",
              "      <th>date</th>\n",
              "      <th>cours_de_clo</th>\n",
              "    </tr>\n",
              "  </thead>\n",
              "  <tbody>\n",
              "    <tr>\n",
              "      <th>0</th>\n",
              "      <td>closeyest</td>\n",
              "      <td>INDEXEURO:PX1</td>\n",
              "      <td>FR0003500008</td>\n",
              "      <td>CAC 40</td>\n",
              "      <td>15/10/2020</td>\n",
              "      <td>4837,42</td>\n",
              "    </tr>\n",
              "    <tr>\n",
              "      <th>1</th>\n",
              "      <td>tradetime</td>\n",
              "      <td>.IXIC</td>\n",
              "      <td></td>\n",
              "      <td>Nasdaq Composite</td>\n",
              "      <td></td>\n",
              "      <td>11768,73</td>\n",
              "    </tr>\n",
              "    <tr>\n",
              "      <th>2</th>\n",
              "      <td></td>\n",
              "      <td>.INX</td>\n",
              "      <td></td>\n",
              "      <td>S&amp;P 500 Index</td>\n",
              "      <td></td>\n",
              "      <td>3488,67</td>\n",
              "    </tr>\n",
              "    <tr>\n",
              "      <th>3</th>\n",
              "      <td></td>\n",
              "      <td>.DJI</td>\n",
              "      <td></td>\n",
              "      <td>Dow Jones Industrial Average</td>\n",
              "      <td></td>\n",
              "      <td>28514</td>\n",
              "    </tr>\n",
              "    <tr>\n",
              "      <th>4</th>\n",
              "      <td></td>\n",
              "      <td>SX5E</td>\n",
              "      <td></td>\n",
              "      <td>EURO STOXX 50</td>\n",
              "      <td></td>\n",
              "      <td>3192,69</td>\n",
              "    </tr>\n",
              "    <tr>\n",
              "      <th>5</th>\n",
              "      <td></td>\n",
              "      <td>DAX</td>\n",
              "      <td></td>\n",
              "      <td>Global X DAX Germany ETF</td>\n",
              "      <td></td>\n",
              "      <td>28,65</td>\n",
              "    </tr>\n",
              "    <tr>\n",
              "      <th>6</th>\n",
              "      <td></td>\n",
              "      <td>UKX</td>\n",
              "      <td></td>\n",
              "      <td>FTSE 100 Index</td>\n",
              "      <td></td>\n",
              "      <td>5832,52</td>\n",
              "    </tr>\n",
              "    <tr>\n",
              "      <th>7</th>\n",
              "      <td></td>\n",
              "      <td>INDEXEURO:PX4</td>\n",
              "      <td></td>\n",
              "      <td>SBF 120</td>\n",
              "      <td></td>\n",
              "      <td>3842,38</td>\n",
              "    </tr>\n",
              "    <tr>\n",
              "      <th>8</th>\n",
              "      <td></td>\n",
              "      <td>EPA:CAP</td>\n",
              "      <td></td>\n",
              "      <td>Capgemini SE</td>\n",
              "      <td></td>\n",
              "      <td>109</td>\n",
              "    </tr>\n",
              "    <tr>\n",
              "      <th>9</th>\n",
              "      <td></td>\n",
              "      <td>NYSE:ACN</td>\n",
              "      <td></td>\n",
              "      <td>Accenture Plc</td>\n",
              "      <td></td>\n",
              "      <td>229,43</td>\n",
              "    </tr>\n",
              "    <tr>\n",
              "      <th>10</th>\n",
              "      <td></td>\n",
              "      <td>NYSE:DIS</td>\n",
              "      <td></td>\n",
              "      <td>Walt Disney Co</td>\n",
              "      <td></td>\n",
              "      <td>126,59</td>\n",
              "    </tr>\n",
              "  </tbody>\n",
              "</table>\n",
              "</div>"
            ],
            "text/plain": [
              "         type           code  ...        date cours_de_clo\n",
              "0   closeyest  INDEXEURO:PX1  ...  15/10/2020      4837,42\n",
              "1   tradetime          .IXIC  ...                 11768,73\n",
              "2                       .INX  ...                  3488,67\n",
              "3                       .DJI  ...                    28514\n",
              "4                       SX5E  ...                  3192,69\n",
              "5                        DAX  ...                    28,65\n",
              "6                        UKX  ...                  5832,52\n",
              "7              INDEXEURO:PX4  ...                  3842,38\n",
              "8                    EPA:CAP  ...                      109\n",
              "9                   NYSE:ACN  ...                   229,43\n",
              "10                  NYSE:DIS  ...                   126,59\n",
              "\n",
              "[11 rows x 6 columns]"
            ]
          },
          "metadata": {
            "tags": []
          },
          "execution_count": 3
        }
      ]
    },
    {
      "cell_type": "code",
      "metadata": {
        "id": "s3Ubbve5ZjPh"
      },
      "source": [
        "data=data[['ISIN','date','cours_de_clo']]\n",
        "\n",
        "data=data.iloc[:1]"
      ],
      "execution_count": null,
      "outputs": []
    },
    {
      "cell_type": "code",
      "metadata": {
        "id": "piQKYkNQcidp"
      },
      "source": [
        "data.to_csv('CAC.txt', sep='\\t', index=False ,header=False)"
      ],
      "execution_count": null,
      "outputs": []
    },
    {
      "cell_type": "code",
      "metadata": {
        "id": "7h4o9JYzp0sW",
        "outputId": "1a2c9ef6-9c41-4fdf-ade1-e2efd77c92b3",
        "colab": {
          "base_uri": "https://localhost:8080/",
          "height": 17
        }
      },
      "source": [
        "from google.colab import files\n",
        "files.download('CAC.txt')"
      ],
      "execution_count": null,
      "outputs": [
        {
          "output_type": "display_data",
          "data": {
            "application/javascript": [
              "\n",
              "    async function download(id, filename, size) {\n",
              "      if (!google.colab.kernel.accessAllowed) {\n",
              "        return;\n",
              "      }\n",
              "      const div = document.createElement('div');\n",
              "      const label = document.createElement('label');\n",
              "      label.textContent = `Downloading \"${filename}\": `;\n",
              "      div.appendChild(label);\n",
              "      const progress = document.createElement('progress');\n",
              "      progress.max = size;\n",
              "      div.appendChild(progress);\n",
              "      document.body.appendChild(div);\n",
              "\n",
              "      const buffers = [];\n",
              "      let downloaded = 0;\n",
              "\n",
              "      const channel = await google.colab.kernel.comms.open(id);\n",
              "      // Send a message to notify the kernel that we're ready.\n",
              "      channel.send({})\n",
              "\n",
              "      for await (const message of channel.messages) {\n",
              "        // Send a message to notify the kernel that we're ready.\n",
              "        channel.send({})\n",
              "        if (message.buffers) {\n",
              "          for (const buffer of message.buffers) {\n",
              "            buffers.push(buffer);\n",
              "            downloaded += buffer.byteLength;\n",
              "            progress.value = downloaded;\n",
              "          }\n",
              "        }\n",
              "      }\n",
              "      const blob = new Blob(buffers, {type: 'application/binary'});\n",
              "      const a = document.createElement('a');\n",
              "      a.href = window.URL.createObjectURL(blob);\n",
              "      a.download = filename;\n",
              "      div.appendChild(a);\n",
              "      a.click();\n",
              "      div.remove();\n",
              "    }\n",
              "  "
            ],
            "text/plain": [
              "<IPython.core.display.Javascript object>"
            ]
          },
          "metadata": {
            "tags": []
          }
        },
        {
          "output_type": "display_data",
          "data": {
            "application/javascript": [
              "download(\"download_111e0d3d-370d-4968-8357-bcfe30a5748a\", \"CAC.txt\", 32)"
            ],
            "text/plain": [
              "<IPython.core.display.Javascript object>"
            ]
          },
          "metadata": {
            "tags": []
          }
        }
      ]
    }
  ]
}