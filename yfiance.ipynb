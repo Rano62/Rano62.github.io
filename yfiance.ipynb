{
  "nbformat": 4,
  "nbformat_minor": 0,
  "metadata": {
    "colab": {
      "name": "yfiance.ipynb",
      "provenance": [],
      "authorship_tag": "ABX9TyPjsaBPkEAIRWHxRUAEkMzX",
      "include_colab_link": true
    },
    "kernelspec": {
      "name": "python3",
      "display_name": "Python 3"
    }
  },
  "cells": [
    {
      "cell_type": "markdown",
      "metadata": {
        "id": "view-in-github",
        "colab_type": "text"
      },
      "source": [
        "<a href=\"https://colab.research.google.com/github/Rano62/projet1/blob/master/yfiance.ipynb\" target=\"_parent\"><img src=\"https://colab.research.google.com/assets/colab-badge.svg\" alt=\"Open In Colab\"/></a>"
      ]
    },
    {
      "cell_type": "code",
      "metadata": {
        "colab": {
          "base_uri": "https://localhost:8080/"
        },
        "id": "D41YjKy7p-ny",
        "outputId": "405ad351-1fa5-42a7-b028-4eb707cdda62"
      },
      "source": [
        "!pip install yfinance"
      ],
      "execution_count": 1,
      "outputs": [
        {
          "output_type": "stream",
          "text": [
            "Collecting yfinance\n",
            "  Downloading https://files.pythonhosted.org/packages/7a/e8/b9d7104d3a4bf39924799067592d9e59119fcfc900a425a12e80a3123ec8/yfinance-0.1.55.tar.gz\n",
            "Requirement already satisfied: pandas>=0.24 in /usr/local/lib/python3.6/dist-packages (from yfinance) (1.1.5)\n",
            "Requirement already satisfied: numpy>=1.15 in /usr/local/lib/python3.6/dist-packages (from yfinance) (1.19.4)\n",
            "Requirement already satisfied: requests>=2.20 in /usr/local/lib/python3.6/dist-packages (from yfinance) (2.23.0)\n",
            "Requirement already satisfied: multitasking>=0.0.7 in /usr/local/lib/python3.6/dist-packages (from yfinance) (0.0.9)\n",
            "Collecting lxml>=4.5.1\n",
            "\u001b[?25l  Downloading https://files.pythonhosted.org/packages/bd/78/56a7c88a57d0d14945472535d0df9fb4bbad7d34ede658ec7961635c790e/lxml-4.6.2-cp36-cp36m-manylinux1_x86_64.whl (5.5MB)\n",
            "\u001b[K     |████████████████████████████████| 5.5MB 7.0MB/s \n",
            "\u001b[?25hRequirement already satisfied: pytz>=2017.2 in /usr/local/lib/python3.6/dist-packages (from pandas>=0.24->yfinance) (2018.9)\n",
            "Requirement already satisfied: python-dateutil>=2.7.3 in /usr/local/lib/python3.6/dist-packages (from pandas>=0.24->yfinance) (2.8.1)\n",
            "Requirement already satisfied: chardet<4,>=3.0.2 in /usr/local/lib/python3.6/dist-packages (from requests>=2.20->yfinance) (3.0.4)\n",
            "Requirement already satisfied: idna<3,>=2.5 in /usr/local/lib/python3.6/dist-packages (from requests>=2.20->yfinance) (2.10)\n",
            "Requirement already satisfied: certifi>=2017.4.17 in /usr/local/lib/python3.6/dist-packages (from requests>=2.20->yfinance) (2020.12.5)\n",
            "Requirement already satisfied: urllib3!=1.25.0,!=1.25.1,<1.26,>=1.21.1 in /usr/local/lib/python3.6/dist-packages (from requests>=2.20->yfinance) (1.24.3)\n",
            "Requirement already satisfied: six>=1.5 in /usr/local/lib/python3.6/dist-packages (from python-dateutil>=2.7.3->pandas>=0.24->yfinance) (1.15.0)\n",
            "Building wheels for collected packages: yfinance\n",
            "  Building wheel for yfinance (setup.py) ... \u001b[?25l\u001b[?25hdone\n",
            "  Created wheel for yfinance: filename=yfinance-0.1.55-py2.py3-none-any.whl size=22616 sha256=4cddd0ecf44ff5e2b4d9787775017ad86f0ba7666a9c86b5ff80a1834a1521ae\n",
            "  Stored in directory: /root/.cache/pip/wheels/04/98/cc/2702a4242d60bdc14f48b4557c427ded1fe92aedf257d4565c\n",
            "Successfully built yfinance\n",
            "Installing collected packages: lxml, yfinance\n",
            "  Found existing installation: lxml 4.2.6\n",
            "    Uninstalling lxml-4.2.6:\n",
            "      Successfully uninstalled lxml-4.2.6\n",
            "Successfully installed lxml-4.6.2 yfinance-0.1.55\n"
          ],
          "name": "stdout"
        }
      ]
    },
    {
      "cell_type": "code",
      "metadata": {
        "id": "wJ58IWlhhVOV"
      },
      "source": [
        "import yfinance as yf\r\n",
        "\r\n",
        "list=(\"MSFT ORA.PA\")\r\n",
        "msft= yf.Ticker(\"MSFT\")\r\n",
        "\r\n",
        "\r\n",
        "# get stock info\r\n",
        "msft.info\r\n",
        "\r\n",
        "cac=yf.Ticker(\"^FCHI\")\r\n"
      ],
      "execution_count": 4,
      "outputs": []
    },
    {
      "cell_type": "code",
      "metadata": {
        "id": "6oAagY_5ddQo"
      },
      "source": [
        "tickers=['RI.PA','ATO.PA','VIV.PA','KER.PA','WLN.PA','SGO.PA','UG.PA','LR.PA','CA.PA','BN.PA','SU.PA','VIE.PA','MC.PA','AI.PA','ORA.PA','HO.PA','BNP.PA','OR.PA','SAN.PA','CAP.PA','ACA.PA','ML.PA','GLE.PA','EN.PA','FP.PA','AC.PA','SW.PA','ENGI.PA','DG.PA','AIR.PA']"
      ],
      "execution_count": 5,
      "outputs": []
    },
    {
      "cell_type": "code",
      "metadata": {
        "colab": {
          "base_uri": "https://localhost:8080/"
        },
        "id": "EmF2WgW6dR8s",
        "outputId": "2b01dc46-af3d-4331-fba3-7693b6b42322"
      },
      "source": [
        "df1 =yf.download(tickers, period='1d')\r\n"
      ],
      "execution_count": 41,
      "outputs": [
        {
          "output_type": "stream",
          "text": [
            "[*********************100%***********************]  30 of 30 completed\n"
          ],
          "name": "stdout"
        }
      ]
    },
    {
      "cell_type": "code",
      "metadata": {
        "id": "8WZiN7vcO9zp"
      },
      "source": [
        "df=df1.stack(level=-1)\r\n",
        "df.reset_index(inplace=True)"
      ],
      "execution_count": 42,
      "outputs": []
    },
    {
      "cell_type": "code",
      "metadata": {
        "colab": {
          "base_uri": "https://localhost:8080/",
          "height": 979
        },
        "id": "Xnzo5vikUC4m",
        "outputId": "92054834-7f77-4c2c-a253-b13f0db7182a"
      },
      "source": [
        "df"
      ],
      "execution_count": 43,
      "outputs": [
        {
          "output_type": "execute_result",
          "data": {
            "text/html": [
              "<div>\n",
              "<style scoped>\n",
              "    .dataframe tbody tr th:only-of-type {\n",
              "        vertical-align: middle;\n",
              "    }\n",
              "\n",
              "    .dataframe tbody tr th {\n",
              "        vertical-align: top;\n",
              "    }\n",
              "\n",
              "    .dataframe thead th {\n",
              "        text-align: right;\n",
              "    }\n",
              "</style>\n",
              "<table border=\"1\" class=\"dataframe\">\n",
              "  <thead>\n",
              "    <tr style=\"text-align: right;\">\n",
              "      <th></th>\n",
              "      <th>Date</th>\n",
              "      <th>level_1</th>\n",
              "      <th>Adj Close</th>\n",
              "      <th>Close</th>\n",
              "      <th>High</th>\n",
              "      <th>Low</th>\n",
              "      <th>Open</th>\n",
              "      <th>Volume</th>\n",
              "    </tr>\n",
              "  </thead>\n",
              "  <tbody>\n",
              "    <tr>\n",
              "      <th>0</th>\n",
              "      <td>2021-01-05</td>\n",
              "      <td>AC.PA</td>\n",
              "      <td>29.070000</td>\n",
              "      <td>29.070000</td>\n",
              "      <td>29.490000</td>\n",
              "      <td>28.600000</td>\n",
              "      <td>28.790001</td>\n",
              "      <td>522884</td>\n",
              "    </tr>\n",
              "    <tr>\n",
              "      <th>1</th>\n",
              "      <td>2021-01-05</td>\n",
              "      <td>ACA.PA</td>\n",
              "      <td>10.255000</td>\n",
              "      <td>10.255000</td>\n",
              "      <td>10.385000</td>\n",
              "      <td>10.175000</td>\n",
              "      <td>10.245000</td>\n",
              "      <td>3519426</td>\n",
              "    </tr>\n",
              "    <tr>\n",
              "      <th>2</th>\n",
              "      <td>2021-01-05</td>\n",
              "      <td>AI.PA</td>\n",
              "      <td>135.000000</td>\n",
              "      <td>135.000000</td>\n",
              "      <td>136.100006</td>\n",
              "      <td>133.899994</td>\n",
              "      <td>135.449997</td>\n",
              "      <td>735576</td>\n",
              "    </tr>\n",
              "    <tr>\n",
              "      <th>3</th>\n",
              "      <td>2021-01-05</td>\n",
              "      <td>AIR.PA</td>\n",
              "      <td>89.830002</td>\n",
              "      <td>89.830002</td>\n",
              "      <td>90.540001</td>\n",
              "      <td>88.370003</td>\n",
              "      <td>88.550003</td>\n",
              "      <td>1567333</td>\n",
              "    </tr>\n",
              "    <tr>\n",
              "      <th>4</th>\n",
              "      <td>2021-01-05</td>\n",
              "      <td>ATO.PA</td>\n",
              "      <td>75.320000</td>\n",
              "      <td>75.320000</td>\n",
              "      <td>76.699997</td>\n",
              "      <td>75.080002</td>\n",
              "      <td>75.959999</td>\n",
              "      <td>285079</td>\n",
              "    </tr>\n",
              "    <tr>\n",
              "      <th>5</th>\n",
              "      <td>2021-01-05</td>\n",
              "      <td>BN.PA</td>\n",
              "      <td>54.599998</td>\n",
              "      <td>54.599998</td>\n",
              "      <td>54.880001</td>\n",
              "      <td>54.080002</td>\n",
              "      <td>54.200001</td>\n",
              "      <td>1552936</td>\n",
              "    </tr>\n",
              "    <tr>\n",
              "      <th>6</th>\n",
              "      <td>2021-01-05</td>\n",
              "      <td>BNP.PA</td>\n",
              "      <td>42.919998</td>\n",
              "      <td>42.919998</td>\n",
              "      <td>43.474998</td>\n",
              "      <td>42.314999</td>\n",
              "      <td>42.720001</td>\n",
              "      <td>2852830</td>\n",
              "    </tr>\n",
              "    <tr>\n",
              "      <th>7</th>\n",
              "      <td>2021-01-05</td>\n",
              "      <td>CA.PA</td>\n",
              "      <td>15.010000</td>\n",
              "      <td>15.010000</td>\n",
              "      <td>15.150000</td>\n",
              "      <td>14.285000</td>\n",
              "      <td>14.515000</td>\n",
              "      <td>7508843</td>\n",
              "    </tr>\n",
              "    <tr>\n",
              "      <th>8</th>\n",
              "      <td>2021-01-05</td>\n",
              "      <td>CAP.PA</td>\n",
              "      <td>126.599998</td>\n",
              "      <td>126.599998</td>\n",
              "      <td>129.350006</td>\n",
              "      <td>126.300003</td>\n",
              "      <td>127.599998</td>\n",
              "      <td>373480</td>\n",
              "    </tr>\n",
              "    <tr>\n",
              "      <th>9</th>\n",
              "      <td>2021-01-05</td>\n",
              "      <td>DG.PA</td>\n",
              "      <td>81.320000</td>\n",
              "      <td>81.320000</td>\n",
              "      <td>83.160004</td>\n",
              "      <td>80.760002</td>\n",
              "      <td>81.959999</td>\n",
              "      <td>993370</td>\n",
              "    </tr>\n",
              "    <tr>\n",
              "      <th>10</th>\n",
              "      <td>2021-01-05</td>\n",
              "      <td>EN.PA</td>\n",
              "      <td>34.130001</td>\n",
              "      <td>34.130001</td>\n",
              "      <td>34.299999</td>\n",
              "      <td>33.639999</td>\n",
              "      <td>33.790001</td>\n",
              "      <td>691972</td>\n",
              "    </tr>\n",
              "    <tr>\n",
              "      <th>11</th>\n",
              "      <td>2021-01-05</td>\n",
              "      <td>ENGI.PA</td>\n",
              "      <td>12.615000</td>\n",
              "      <td>12.615000</td>\n",
              "      <td>12.750000</td>\n",
              "      <td>12.460000</td>\n",
              "      <td>12.675000</td>\n",
              "      <td>5280811</td>\n",
              "    </tr>\n",
              "    <tr>\n",
              "      <th>12</th>\n",
              "      <td>2021-01-05</td>\n",
              "      <td>FP.PA</td>\n",
              "      <td>35.494999</td>\n",
              "      <td>35.494999</td>\n",
              "      <td>35.494999</td>\n",
              "      <td>34.334999</td>\n",
              "      <td>34.599998</td>\n",
              "      <td>7310461</td>\n",
              "    </tr>\n",
              "    <tr>\n",
              "      <th>13</th>\n",
              "      <td>2021-01-05</td>\n",
              "      <td>GLE.PA</td>\n",
              "      <td>16.808001</td>\n",
              "      <td>16.808001</td>\n",
              "      <td>16.969999</td>\n",
              "      <td>16.511999</td>\n",
              "      <td>16.572001</td>\n",
              "      <td>3719709</td>\n",
              "    </tr>\n",
              "    <tr>\n",
              "      <th>14</th>\n",
              "      <td>2021-01-05</td>\n",
              "      <td>HO.PA</td>\n",
              "      <td>76.220001</td>\n",
              "      <td>76.220001</td>\n",
              "      <td>76.839996</td>\n",
              "      <td>74.519997</td>\n",
              "      <td>74.820000</td>\n",
              "      <td>340071</td>\n",
              "    </tr>\n",
              "    <tr>\n",
              "      <th>15</th>\n",
              "      <td>2021-01-05</td>\n",
              "      <td>KER.PA</td>\n",
              "      <td>571.500000</td>\n",
              "      <td>571.500000</td>\n",
              "      <td>582.799988</td>\n",
              "      <td>568.599976</td>\n",
              "      <td>576.900024</td>\n",
              "      <td>169811</td>\n",
              "    </tr>\n",
              "    <tr>\n",
              "      <th>16</th>\n",
              "      <td>2021-01-05</td>\n",
              "      <td>LR.PA</td>\n",
              "      <td>75.500000</td>\n",
              "      <td>75.500000</td>\n",
              "      <td>75.660004</td>\n",
              "      <td>74.900002</td>\n",
              "      <td>75.099998</td>\n",
              "      <td>580880</td>\n",
              "    </tr>\n",
              "    <tr>\n",
              "      <th>17</th>\n",
              "      <td>2021-01-05</td>\n",
              "      <td>MC.PA</td>\n",
              "      <td>506.200012</td>\n",
              "      <td>506.200012</td>\n",
              "      <td>515.799988</td>\n",
              "      <td>503.399994</td>\n",
              "      <td>509.600006</td>\n",
              "      <td>303053</td>\n",
              "    </tr>\n",
              "    <tr>\n",
              "      <th>18</th>\n",
              "      <td>2021-01-05</td>\n",
              "      <td>ML.PA</td>\n",
              "      <td>104.500000</td>\n",
              "      <td>104.500000</td>\n",
              "      <td>106.750000</td>\n",
              "      <td>103.949997</td>\n",
              "      <td>106.550003</td>\n",
              "      <td>489621</td>\n",
              "    </tr>\n",
              "    <tr>\n",
              "      <th>19</th>\n",
              "      <td>2021-01-05</td>\n",
              "      <td>OR.PA</td>\n",
              "      <td>308.500000</td>\n",
              "      <td>308.500000</td>\n",
              "      <td>311.799988</td>\n",
              "      <td>306.600006</td>\n",
              "      <td>308.899994</td>\n",
              "      <td>322124</td>\n",
              "    </tr>\n",
              "    <tr>\n",
              "      <th>20</th>\n",
              "      <td>2021-01-05</td>\n",
              "      <td>ORA.PA</td>\n",
              "      <td>9.920000</td>\n",
              "      <td>9.920000</td>\n",
              "      <td>9.966000</td>\n",
              "      <td>9.838000</td>\n",
              "      <td>9.954000</td>\n",
              "      <td>7803865</td>\n",
              "    </tr>\n",
              "    <tr>\n",
              "      <th>21</th>\n",
              "      <td>2021-01-05</td>\n",
              "      <td>RI.PA</td>\n",
              "      <td>155.399994</td>\n",
              "      <td>155.399994</td>\n",
              "      <td>158.000000</td>\n",
              "      <td>154.800003</td>\n",
              "      <td>157.750000</td>\n",
              "      <td>403339</td>\n",
              "    </tr>\n",
              "    <tr>\n",
              "      <th>22</th>\n",
              "      <td>2021-01-05</td>\n",
              "      <td>SAN.PA</td>\n",
              "      <td>78.989998</td>\n",
              "      <td>78.989998</td>\n",
              "      <td>79.610001</td>\n",
              "      <td>78.510002</td>\n",
              "      <td>79.169998</td>\n",
              "      <td>1541681</td>\n",
              "    </tr>\n",
              "    <tr>\n",
              "      <th>23</th>\n",
              "      <td>2021-01-05</td>\n",
              "      <td>SGO.PA</td>\n",
              "      <td>38.270000</td>\n",
              "      <td>38.270000</td>\n",
              "      <td>38.779999</td>\n",
              "      <td>37.790001</td>\n",
              "      <td>38.020000</td>\n",
              "      <td>1329396</td>\n",
              "    </tr>\n",
              "    <tr>\n",
              "      <th>24</th>\n",
              "      <td>2021-01-05</td>\n",
              "      <td>SU.PA</td>\n",
              "      <td>120.599998</td>\n",
              "      <td>120.599998</td>\n",
              "      <td>121.349998</td>\n",
              "      <td>119.099998</td>\n",
              "      <td>120.800003</td>\n",
              "      <td>1169025</td>\n",
              "    </tr>\n",
              "    <tr>\n",
              "      <th>25</th>\n",
              "      <td>2021-01-05</td>\n",
              "      <td>SW.PA</td>\n",
              "      <td>69.220001</td>\n",
              "      <td>69.220001</td>\n",
              "      <td>69.879997</td>\n",
              "      <td>67.940002</td>\n",
              "      <td>68.099998</td>\n",
              "      <td>241292</td>\n",
              "    </tr>\n",
              "    <tr>\n",
              "      <th>26</th>\n",
              "      <td>2021-01-05</td>\n",
              "      <td>UG.PA</td>\n",
              "      <td>22.740000</td>\n",
              "      <td>22.740000</td>\n",
              "      <td>23.129999</td>\n",
              "      <td>22.459999</td>\n",
              "      <td>22.639999</td>\n",
              "      <td>4101878</td>\n",
              "    </tr>\n",
              "    <tr>\n",
              "      <th>27</th>\n",
              "      <td>2021-01-05</td>\n",
              "      <td>VIE.PA</td>\n",
              "      <td>20.020000</td>\n",
              "      <td>20.020000</td>\n",
              "      <td>20.080000</td>\n",
              "      <td>19.850000</td>\n",
              "      <td>20.000000</td>\n",
              "      <td>1498973</td>\n",
              "    </tr>\n",
              "    <tr>\n",
              "      <th>28</th>\n",
              "      <td>2021-01-05</td>\n",
              "      <td>VIV.PA</td>\n",
              "      <td>26.059999</td>\n",
              "      <td>26.059999</td>\n",
              "      <td>26.400000</td>\n",
              "      <td>26.000000</td>\n",
              "      <td>26.200001</td>\n",
              "      <td>1630618</td>\n",
              "    </tr>\n",
              "    <tr>\n",
              "      <th>29</th>\n",
              "      <td>2021-01-05</td>\n",
              "      <td>WLN.PA</td>\n",
              "      <td>80.059998</td>\n",
              "      <td>80.059998</td>\n",
              "      <td>81.059998</td>\n",
              "      <td>79.139999</td>\n",
              "      <td>80.000000</td>\n",
              "      <td>720880</td>\n",
              "    </tr>\n",
              "  </tbody>\n",
              "</table>\n",
              "</div>"
            ],
            "text/plain": [
              "         Date  level_1   Adj Close  ...         Low        Open   Volume\n",
              "0  2021-01-05    AC.PA   29.070000  ...   28.600000   28.790001   522884\n",
              "1  2021-01-05   ACA.PA   10.255000  ...   10.175000   10.245000  3519426\n",
              "2  2021-01-05    AI.PA  135.000000  ...  133.899994  135.449997   735576\n",
              "3  2021-01-05   AIR.PA   89.830002  ...   88.370003   88.550003  1567333\n",
              "4  2021-01-05   ATO.PA   75.320000  ...   75.080002   75.959999   285079\n",
              "5  2021-01-05    BN.PA   54.599998  ...   54.080002   54.200001  1552936\n",
              "6  2021-01-05   BNP.PA   42.919998  ...   42.314999   42.720001  2852830\n",
              "7  2021-01-05    CA.PA   15.010000  ...   14.285000   14.515000  7508843\n",
              "8  2021-01-05   CAP.PA  126.599998  ...  126.300003  127.599998   373480\n",
              "9  2021-01-05    DG.PA   81.320000  ...   80.760002   81.959999   993370\n",
              "10 2021-01-05    EN.PA   34.130001  ...   33.639999   33.790001   691972\n",
              "11 2021-01-05  ENGI.PA   12.615000  ...   12.460000   12.675000  5280811\n",
              "12 2021-01-05    FP.PA   35.494999  ...   34.334999   34.599998  7310461\n",
              "13 2021-01-05   GLE.PA   16.808001  ...   16.511999   16.572001  3719709\n",
              "14 2021-01-05    HO.PA   76.220001  ...   74.519997   74.820000   340071\n",
              "15 2021-01-05   KER.PA  571.500000  ...  568.599976  576.900024   169811\n",
              "16 2021-01-05    LR.PA   75.500000  ...   74.900002   75.099998   580880\n",
              "17 2021-01-05    MC.PA  506.200012  ...  503.399994  509.600006   303053\n",
              "18 2021-01-05    ML.PA  104.500000  ...  103.949997  106.550003   489621\n",
              "19 2021-01-05    OR.PA  308.500000  ...  306.600006  308.899994   322124\n",
              "20 2021-01-05   ORA.PA    9.920000  ...    9.838000    9.954000  7803865\n",
              "21 2021-01-05    RI.PA  155.399994  ...  154.800003  157.750000   403339\n",
              "22 2021-01-05   SAN.PA   78.989998  ...   78.510002   79.169998  1541681\n",
              "23 2021-01-05   SGO.PA   38.270000  ...   37.790001   38.020000  1329396\n",
              "24 2021-01-05    SU.PA  120.599998  ...  119.099998  120.800003  1169025\n",
              "25 2021-01-05    SW.PA   69.220001  ...   67.940002   68.099998   241292\n",
              "26 2021-01-05    UG.PA   22.740000  ...   22.459999   22.639999  4101878\n",
              "27 2021-01-05   VIE.PA   20.020000  ...   19.850000   20.000000  1498973\n",
              "28 2021-01-05   VIV.PA   26.059999  ...   26.000000   26.200001  1630618\n",
              "29 2021-01-05   WLN.PA   80.059998  ...   79.139999   80.000000   720880\n",
              "\n",
              "[30 rows x 8 columns]"
            ]
          },
          "metadata": {
            "tags": []
          },
          "execution_count": 43
        }
      ]
    },
    {
      "cell_type": "code",
      "metadata": {
        "colab": {
          "base_uri": "https://localhost:8080/",
          "height": 163
        },
        "id": "yc0wt9OEVOmE",
        "outputId": "edb77a14-8e31-4713-a9d6-cd5e18318b5e"
      },
      "source": [
        ""
      ],
      "execution_count": 28,
      "outputs": [
        {
          "output_type": "error",
          "ename": "AttributeError",
          "evalue": "ignored",
          "traceback": [
            "\u001b[0;31m---------------------------------------------------------------------------\u001b[0m",
            "\u001b[0;31mAttributeError\u001b[0m                            Traceback (most recent call last)",
            "\u001b[0;32m<ipython-input-28-79c83efb9910>\u001b[0m in \u001b[0;36m<module>\u001b[0;34m()\u001b[0m\n\u001b[0;32m----> 1\u001b[0;31m \u001b[0mdf\u001b[0m\u001b[0;34m.\u001b[0m\u001b[0mindex\u001b[0m\u001b[0;34m(\u001b[0m\u001b[0;34m)\u001b[0m\u001b[0;34m\u001b[0m\u001b[0;34m\u001b[0m\u001b[0m\n\u001b[0m",
            "\u001b[0;31mAttributeError\u001b[0m: 'function' object has no attribute 'index'"
          ]
        }
      ]
    },
    {
      "cell_type": "code",
      "metadata": {
        "colab": {
          "base_uri": "https://localhost:8080/",
          "height": 306
        },
        "id": "INpcDEZlqj3f",
        "outputId": "18865256-e3e1-4ab1-a60a-8abc8e08e016"
      },
      "source": [
        "df.pivot(index=\"Date\",columns=\"Close\")"
      ],
      "execution_count": 11,
      "outputs": [
        {
          "output_type": "error",
          "ename": "KeyError",
          "evalue": "ignored",
          "traceback": [
            "\u001b[0;31m---------------------------------------------------------------------------\u001b[0m",
            "\u001b[0;31mKeyError\u001b[0m                                  Traceback (most recent call last)",
            "\u001b[0;32m<ipython-input-11-e7f002371fa7>\u001b[0m in \u001b[0;36m<module>\u001b[0;34m()\u001b[0m\n\u001b[0;32m----> 1\u001b[0;31m \u001b[0mdf\u001b[0m\u001b[0;34m.\u001b[0m\u001b[0mpivot\u001b[0m\u001b[0;34m(\u001b[0m\u001b[0mindex\u001b[0m\u001b[0;34m=\u001b[0m\u001b[0;34m\"Date\"\u001b[0m\u001b[0;34m,\u001b[0m\u001b[0mcolumns\u001b[0m\u001b[0;34m=\u001b[0m\u001b[0;34m\"Close\"\u001b[0m\u001b[0;34m)\u001b[0m\u001b[0;34m\u001b[0m\u001b[0;34m\u001b[0m\u001b[0m\n\u001b[0m",
            "\u001b[0;32m/usr/local/lib/python3.6/dist-packages/pandas/core/frame.py\u001b[0m in \u001b[0;36mpivot\u001b[0;34m(self, index, columns, values)\u001b[0m\n\u001b[1;32m   6676\u001b[0m         \u001b[0;32mfrom\u001b[0m \u001b[0mpandas\u001b[0m\u001b[0;34m.\u001b[0m\u001b[0mcore\u001b[0m\u001b[0;34m.\u001b[0m\u001b[0mreshape\u001b[0m\u001b[0;34m.\u001b[0m\u001b[0mpivot\u001b[0m \u001b[0;32mimport\u001b[0m \u001b[0mpivot\u001b[0m\u001b[0;34m\u001b[0m\u001b[0;34m\u001b[0m\u001b[0m\n\u001b[1;32m   6677\u001b[0m \u001b[0;34m\u001b[0m\u001b[0m\n\u001b[0;32m-> 6678\u001b[0;31m         \u001b[0;32mreturn\u001b[0m \u001b[0mpivot\u001b[0m\u001b[0;34m(\u001b[0m\u001b[0mself\u001b[0m\u001b[0;34m,\u001b[0m \u001b[0mindex\u001b[0m\u001b[0;34m=\u001b[0m\u001b[0mindex\u001b[0m\u001b[0;34m,\u001b[0m \u001b[0mcolumns\u001b[0m\u001b[0;34m=\u001b[0m\u001b[0mcolumns\u001b[0m\u001b[0;34m,\u001b[0m \u001b[0mvalues\u001b[0m\u001b[0;34m=\u001b[0m\u001b[0mvalues\u001b[0m\u001b[0;34m)\u001b[0m\u001b[0;34m\u001b[0m\u001b[0;34m\u001b[0m\u001b[0m\n\u001b[0m\u001b[1;32m   6679\u001b[0m \u001b[0;34m\u001b[0m\u001b[0m\n\u001b[1;32m   6680\u001b[0m     _shared_docs[\n",
            "\u001b[0;32m/usr/local/lib/python3.6/dist-packages/pandas/core/reshape/pivot.py\u001b[0m in \u001b[0;36mpivot\u001b[0;34m(data, index, columns, values)\u001b[0m\n\u001b[1;32m    455\u001b[0m \u001b[0;34m\u001b[0m\u001b[0m\n\u001b[1;32m    456\u001b[0m         \u001b[0mappend\u001b[0m \u001b[0;34m=\u001b[0m \u001b[0mindex\u001b[0m \u001b[0;32mis\u001b[0m \u001b[0;32mNone\u001b[0m\u001b[0;34m\u001b[0m\u001b[0;34m\u001b[0m\u001b[0m\n\u001b[0;32m--> 457\u001b[0;31m         \u001b[0mindexed\u001b[0m \u001b[0;34m=\u001b[0m \u001b[0mdata\u001b[0m\u001b[0;34m.\u001b[0m\u001b[0mset_index\u001b[0m\u001b[0;34m(\u001b[0m\u001b[0mcols\u001b[0m\u001b[0;34m,\u001b[0m \u001b[0mappend\u001b[0m\u001b[0;34m=\u001b[0m\u001b[0mappend\u001b[0m\u001b[0;34m)\u001b[0m\u001b[0;34m\u001b[0m\u001b[0;34m\u001b[0m\u001b[0m\n\u001b[0m\u001b[1;32m    458\u001b[0m     \u001b[0;32melse\u001b[0m\u001b[0;34m:\u001b[0m\u001b[0;34m\u001b[0m\u001b[0;34m\u001b[0m\u001b[0m\n\u001b[1;32m    459\u001b[0m         \u001b[0;32mif\u001b[0m \u001b[0mindex\u001b[0m \u001b[0;32mis\u001b[0m \u001b[0;32mNone\u001b[0m\u001b[0;34m:\u001b[0m\u001b[0;34m\u001b[0m\u001b[0;34m\u001b[0m\u001b[0m\n",
            "\u001b[0;32m/usr/local/lib/python3.6/dist-packages/pandas/core/frame.py\u001b[0m in \u001b[0;36mset_index\u001b[0;34m(self, keys, drop, append, inplace, verify_integrity)\u001b[0m\n\u001b[1;32m   4553\u001b[0m \u001b[0;34m\u001b[0m\u001b[0m\n\u001b[1;32m   4554\u001b[0m         \u001b[0;32mif\u001b[0m \u001b[0mmissing\u001b[0m\u001b[0;34m:\u001b[0m\u001b[0;34m\u001b[0m\u001b[0;34m\u001b[0m\u001b[0m\n\u001b[0;32m-> 4555\u001b[0;31m             \u001b[0;32mraise\u001b[0m \u001b[0mKeyError\u001b[0m\u001b[0;34m(\u001b[0m\u001b[0;34mf\"None of {missing} are in the columns\"\u001b[0m\u001b[0;34m)\u001b[0m\u001b[0;34m\u001b[0m\u001b[0;34m\u001b[0m\u001b[0m\n\u001b[0m\u001b[1;32m   4556\u001b[0m \u001b[0;34m\u001b[0m\u001b[0m\n\u001b[1;32m   4557\u001b[0m         \u001b[0;32mif\u001b[0m \u001b[0minplace\u001b[0m\u001b[0;34m:\u001b[0m\u001b[0;34m\u001b[0m\u001b[0;34m\u001b[0m\u001b[0m\n",
            "\u001b[0;31mKeyError\u001b[0m: \"None of ['Date', 'Close'] are in the columns\""
          ]
        }
      ]
    },
    {
      "cell_type": "code",
      "metadata": {
        "id": "Qq22UBI-l8ha"
      },
      "source": [
        ""
      ],
      "execution_count": null,
      "outputs": []
    },
    {
      "cell_type": "code",
      "metadata": {
        "id": "69Q4sOgLjJcF"
      },
      "source": [
        "# get historical market data\r\n",
        "#hist = msft.history(period=\"max\")\r\n",
        "hist = msft.history(period=\"1d\")"
      ],
      "execution_count": null,
      "outputs": []
    },
    {
      "cell_type": "code",
      "metadata": {
        "colab": {
          "base_uri": "https://localhost:8080/",
          "height": 450
        },
        "id": "fP0hzM_Ij8zT",
        "outputId": "d62f1239-944d-4d31-aa70-f46f60221df8"
      },
      "source": [
        "hist"
      ],
      "execution_count": null,
      "outputs": [
        {
          "output_type": "execute_result",
          "data": {
            "text/html": [
              "<div>\n",
              "<style scoped>\n",
              "    .dataframe tbody tr th:only-of-type {\n",
              "        vertical-align: middle;\n",
              "    }\n",
              "\n",
              "    .dataframe tbody tr th {\n",
              "        vertical-align: top;\n",
              "    }\n",
              "\n",
              "    .dataframe thead th {\n",
              "        text-align: right;\n",
              "    }\n",
              "</style>\n",
              "<table border=\"1\" class=\"dataframe\">\n",
              "  <thead>\n",
              "    <tr style=\"text-align: right;\">\n",
              "      <th></th>\n",
              "      <th>Open</th>\n",
              "      <th>High</th>\n",
              "      <th>Low</th>\n",
              "      <th>Close</th>\n",
              "      <th>Volume</th>\n",
              "      <th>Dividends</th>\n",
              "      <th>Stock Splits</th>\n",
              "    </tr>\n",
              "    <tr>\n",
              "      <th>Date</th>\n",
              "      <th></th>\n",
              "      <th></th>\n",
              "      <th></th>\n",
              "      <th></th>\n",
              "      <th></th>\n",
              "      <th></th>\n",
              "      <th></th>\n",
              "    </tr>\n",
              "  </thead>\n",
              "  <tbody>\n",
              "    <tr>\n",
              "      <th>1986-03-13</th>\n",
              "      <td>0.056367</td>\n",
              "      <td>0.064656</td>\n",
              "      <td>0.056367</td>\n",
              "      <td>0.061893</td>\n",
              "      <td>1031788800</td>\n",
              "      <td>0.0</td>\n",
              "      <td>0.0</td>\n",
              "    </tr>\n",
              "    <tr>\n",
              "      <th>1986-03-14</th>\n",
              "      <td>0.061893</td>\n",
              "      <td>0.065209</td>\n",
              "      <td>0.061893</td>\n",
              "      <td>0.064103</td>\n",
              "      <td>308160000</td>\n",
              "      <td>0.0</td>\n",
              "      <td>0.0</td>\n",
              "    </tr>\n",
              "    <tr>\n",
              "      <th>1986-03-17</th>\n",
              "      <td>0.064103</td>\n",
              "      <td>0.065761</td>\n",
              "      <td>0.064103</td>\n",
              "      <td>0.065209</td>\n",
              "      <td>133171200</td>\n",
              "      <td>0.0</td>\n",
              "      <td>0.0</td>\n",
              "    </tr>\n",
              "    <tr>\n",
              "      <th>1986-03-18</th>\n",
              "      <td>0.065209</td>\n",
              "      <td>0.065761</td>\n",
              "      <td>0.062998</td>\n",
              "      <td>0.063551</td>\n",
              "      <td>67766400</td>\n",
              "      <td>0.0</td>\n",
              "      <td>0.0</td>\n",
              "    </tr>\n",
              "    <tr>\n",
              "      <th>1986-03-19</th>\n",
              "      <td>0.063551</td>\n",
              "      <td>0.064103</td>\n",
              "      <td>0.061893</td>\n",
              "      <td>0.062446</td>\n",
              "      <td>47894400</td>\n",
              "      <td>0.0</td>\n",
              "      <td>0.0</td>\n",
              "    </tr>\n",
              "    <tr>\n",
              "      <th>...</th>\n",
              "      <td>...</td>\n",
              "      <td>...</td>\n",
              "      <td>...</td>\n",
              "      <td>...</td>\n",
              "      <td>...</td>\n",
              "      <td>...</td>\n",
              "      <td>...</td>\n",
              "    </tr>\n",
              "    <tr>\n",
              "      <th>2020-12-07</th>\n",
              "      <td>214.369995</td>\n",
              "      <td>215.539993</td>\n",
              "      <td>212.990005</td>\n",
              "      <td>214.289993</td>\n",
              "      <td>24620000</td>\n",
              "      <td>0.0</td>\n",
              "      <td>0.0</td>\n",
              "    </tr>\n",
              "    <tr>\n",
              "      <th>2020-12-08</th>\n",
              "      <td>213.970001</td>\n",
              "      <td>216.949997</td>\n",
              "      <td>212.889999</td>\n",
              "      <td>216.009995</td>\n",
              "      <td>23284100</td>\n",
              "      <td>0.0</td>\n",
              "      <td>0.0</td>\n",
              "    </tr>\n",
              "    <tr>\n",
              "      <th>2020-12-09</th>\n",
              "      <td>215.160004</td>\n",
              "      <td>215.229996</td>\n",
              "      <td>211.210007</td>\n",
              "      <td>211.800003</td>\n",
              "      <td>32440600</td>\n",
              "      <td>0.0</td>\n",
              "      <td>0.0</td>\n",
              "    </tr>\n",
              "    <tr>\n",
              "      <th>2020-12-10</th>\n",
              "      <td>211.770004</td>\n",
              "      <td>213.080002</td>\n",
              "      <td>210.360001</td>\n",
              "      <td>210.520004</td>\n",
              "      <td>26733300</td>\n",
              "      <td>0.0</td>\n",
              "      <td>0.0</td>\n",
              "    </tr>\n",
              "    <tr>\n",
              "      <th>2020-12-11</th>\n",
              "      <td>210.050003</td>\n",
              "      <td>213.320007</td>\n",
              "      <td>209.110001</td>\n",
              "      <td>213.259995</td>\n",
              "      <td>30972600</td>\n",
              "      <td>0.0</td>\n",
              "      <td>0.0</td>\n",
              "    </tr>\n",
              "  </tbody>\n",
              "</table>\n",
              "<p>8761 rows × 7 columns</p>\n",
              "</div>"
            ],
            "text/plain": [
              "                  Open        High  ...  Dividends  Stock Splits\n",
              "Date                                ...                         \n",
              "1986-03-13    0.056367    0.064656  ...        0.0           0.0\n",
              "1986-03-14    0.061893    0.065209  ...        0.0           0.0\n",
              "1986-03-17    0.064103    0.065761  ...        0.0           0.0\n",
              "1986-03-18    0.065209    0.065761  ...        0.0           0.0\n",
              "1986-03-19    0.063551    0.064103  ...        0.0           0.0\n",
              "...                ...         ...  ...        ...           ...\n",
              "2020-12-07  214.369995  215.539993  ...        0.0           0.0\n",
              "2020-12-08  213.970001  216.949997  ...        0.0           0.0\n",
              "2020-12-09  215.160004  215.229996  ...        0.0           0.0\n",
              "2020-12-10  211.770004  213.080002  ...        0.0           0.0\n",
              "2020-12-11  210.050003  213.320007  ...        0.0           0.0\n",
              "\n",
              "[8761 rows x 7 columns]"
            ]
          },
          "metadata": {
            "tags": []
          },
          "execution_count": 6
        }
      ]
    },
    {
      "cell_type": "code",
      "metadata": {
        "id": "ETc9NvRjj5a0",
        "colab": {
          "base_uri": "https://localhost:8080/",
          "height": 35
        },
        "outputId": "5c052950-cb71-4ebe-80bc-5ff9ef449072"
      },
      "source": [
        "# show actions (dividends, splits)\r\n",
        "msft.actions\r\n",
        "\r\n",
        "# show dividends\r\n",
        "msft.dividends\r\n",
        "\r\n",
        "# show splits\r\n",
        "msft.splits\r\n",
        "\r\n",
        "# show financials\r\n",
        "msft.financials\r\n",
        "msft.quarterly_financials\r\n",
        "\r\n",
        "# show major holders\r\n",
        "msft.major_holders\r\n",
        "\r\n",
        "# show institutional holders\r\n",
        "msft.institutional_holders\r\n",
        "\r\n",
        "# show balance sheet\r\n",
        "msft.balance_sheet\r\n",
        "msft.quarterly_balance_sheet\r\n",
        "\r\n",
        "# show cashflow\r\n",
        "msft.cashflow\r\n",
        "msft.quarterly_cashflow\r\n",
        "\r\n",
        "# show earnings\r\n",
        "msft.earnings\r\n",
        "msft.quarterly_earnings\r\n",
        "\r\n",
        "# show sustainability\r\n",
        "msft.sustainability\r\n",
        "\r\n",
        "# show analysts recommendations\r\n",
        "msft.recommendations\r\n",
        "\r\n",
        "# show next event (earnings, etc)\r\n",
        "msft.calendar\r\n",
        "\r\n",
        "# show ISIN code - *experimental*\r\n",
        "# ISIN = International Securities Identification Number\r\n",
        "msft.isin\r\n",
        "\r\n",
        "\r\n",
        "\r\n"
      ],
      "execution_count": 8,
      "outputs": [
        {
          "output_type": "execute_result",
          "data": {
            "application/vnd.google.colaboratory.intrinsic+json": {
              "type": "string"
            },
            "text/plain": [
              "'US5949181045'"
            ]
          },
          "metadata": {
            "tags": []
          },
          "execution_count": 8
        }
      ]
    },
    {
      "cell_type": "code",
      "metadata": {
        "colab": {
          "base_uri": "https://localhost:8080/",
          "height": 35
        },
        "id": "M8YY7uR5kIJ6",
        "outputId": "ba5346a7-3857-450f-975f-f2ab7648cb40"
      },
      "source": [
        "# show ISIN code - *experimental*\r\n",
        "# ISIN = International Securities Identification Number\r\n",
        "msft.isin"
      ],
      "execution_count": null,
      "outputs": [
        {
          "output_type": "execute_result",
          "data": {
            "application/vnd.google.colaboratory.intrinsic+json": {
              "type": "string"
            },
            "text/plain": [
              "'US5949181045'"
            ]
          },
          "metadata": {
            "tags": []
          },
          "execution_count": 7
        }
      ]
    },
    {
      "cell_type": "code",
      "metadata": {
        "colab": {
          "base_uri": "https://localhost:8080/"
        },
        "id": "SH3fsSVKl9bZ",
        "outputId": "496c9561-db91-4ce7-e857-05f59e418bed"
      },
      "source": [
        "cac.history(period=\"max\")[\"Close\"]"
      ],
      "execution_count": null,
      "outputs": [
        {
          "output_type": "execute_result",
          "data": {
            "text/plain": [
              "Date\n",
              "1990-03-01    1832.000000\n",
              "1990-03-02    1860.000000\n",
              "1990-03-05    1874.000000\n",
              "1990-03-06    1872.000000\n",
              "1990-03-07    1880.000000\n",
              "                 ...     \n",
              "2020-12-08    5560.669922\n",
              "2020-12-09    5546.819824\n",
              "2020-12-10    5549.649902\n",
              "2020-12-11    5507.549805\n",
              "2020-12-14    5549.680176\n",
              "Name: Close, Length: 7811, dtype: float64"
            ]
          },
          "metadata": {
            "tags": []
          },
          "execution_count": 17
        }
      ]
    }
  ]
}